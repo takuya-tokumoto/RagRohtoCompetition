{
 "cells": [
  {
   "cell_type": "markdown",
   "metadata": {},
   "source": [
    "# ライブラリーのセットアップ確認"
   ]
  },
  {
   "cell_type": "code",
   "execution_count": 1,
   "metadata": {},
   "outputs": [
    {
     "name": "stdout",
     "output_type": "stream",
     "text": [
      "すべてのパッケージが正常にインポートされました！\n"
     ]
    }
   ],
   "source": [
    "import langchain_chroma\n",
    "import langchain_community\n",
    "import langchain_openai\n",
    "import langchain_text_splitters\n",
    "import langchain_core\n",
    "import pypdf\n",
    "import cryptography\n",
    "import dotenv\n",
    "import sudachipy\n",
    "import sudachidict_core\n",
    "import rank_bm25\n",
    "import langgraph\n",
    "import pdfplumber\n",
    "import fitz  # pymupdf\n",
    "import numpy as np\n",
    "import polars as pl\n",
    "import pandas as pd\n",
    "\n",
    "print(\"すべてのパッケージが正常にインポートされました！\")"
   ]
  },
  {
   "cell_type": "code",
   "execution_count": null,
   "metadata": {},
   "outputs": [],
   "source": []
  }
 ],
 "metadata": {
  "kernelspec": {
   "display_name": "Python 3",
   "language": "python",
   "name": "python3"
  },
  "language_info": {
   "codemirror_mode": {
    "name": "ipython",
    "version": 3
   },
   "file_extension": ".py",
   "mimetype": "text/x-python",
   "name": "python",
   "nbconvert_exporter": "python",
   "pygments_lexer": "ipython3",
   "version": "3.9.21"
  }
 },
 "nbformat": 4,
 "nbformat_minor": 2
}

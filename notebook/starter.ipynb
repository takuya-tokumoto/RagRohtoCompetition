{
 "cells": [
  {
   "cell_type": "markdown",
   "metadata": {},
   "source": [
    "# Import"
   ]
  },
  {
   "cell_type": "code",
   "execution_count": 5,
   "metadata": {},
   "outputs": [],
   "source": [
    "import os\n",
    "from dotenv import load_dotenv\n",
    "\n",
    "# .envファイルを読み込む\n",
    "load_dotenv()\n",
    "\n",
    "os.environ[\"OPENAI_API_KEY\"] = os.environ.get(\"OPENAI_API_KEY\")\n",
    "os.environ[\"LANGCHAIN_TRACING_V2\"] = \"true\"\n",
    "os.environ[\"LANGCHAIN_ENDPOINT\"] = \"https://api.smith.langchain.com\"\n",
    "os.environ[\"LANGCHAIN_API_KEY\"] = os.environ.get(\"LANGCHAIN_API_KEY\")\n",
    "os.environ[\"LANGCHAIN_PROJECT\"] = \"rag-rohto\""
   ]
  },
  {
   "cell_type": "markdown",
   "metadata": {},
   "source": [
    "# Document Loader"
   ]
  },
  {
   "cell_type": "code",
   "execution_count": 32,
   "metadata": {},
   "outputs": [],
   "source": [
    "from langchain_community.document_loaders import PyPDFLoader\n",
    "import pdfplumber\n",
    "\n",
    "def load_pdf_document(file_path):\n",
    "    documents = []\n",
    "    with pdfplumber.open(file_path) as pdf:\n",
    "        for page in pdf.pages:\n",
    "            documents.append({\"content\": page.extract_text(), \"metadata\": {\"source\": file_path}})\n",
    "    return documents\n",
    "\n",
    "file_paths = [\n",
    "    \"../dataset/Financial_Statements_2023.pdf\",\n",
    "    \"../dataset/Hada_Labo_Gokujun_Lotion_Overview.pdf\",\n",
    "    \"../dataset/Shibata_et_al_Research_Article.pdf\",\n",
    "    \"../dataset/V_Rohto_Premium_Product_Information.pdf\",\n",
    "    \"../dataset/Well-Being_Report_2024.pdf\",\n",
    "    ]\n",
    "\n",
    "# PDFファイルを読み込む\n",
    "docs = [load_pdf_document(file_path) for file_path in file_paths]\n",
    "# リストをフラット化\n",
    "docs_list = [item for sublist in docs for item in sublist]"
   ]
  },
  {
   "cell_type": "markdown",
   "metadata": {},
   "source": [
    "# Document transformer"
   ]
  },
  {
   "cell_type": "code",
   "execution_count": 37,
   "metadata": {},
   "outputs": [
    {
     "name": "stderr",
     "output_type": "stream",
     "text": [
      "Created a chunk of size 1097, which is longer than the specified 1000\n"
     ]
    },
    {
     "name": "stdout",
     "output_type": "stream",
     "text": [
      "514\n"
     ]
    }
   ],
   "source": [
    "from langchain.schema import Document\n",
    "from langchain.text_splitter import CharacterTextSplitter\n",
    "\n",
    "# `docs_list` を Document 型に変換\n",
    "docs_list_converted = [\n",
    "    Document(page_content=doc[\"content\"], metadata=doc[\"metadata\"])\n",
    "    for doc in docs_list\n",
    "]\n",
    "\n",
    "text_splitter = CharacterTextSplitter.from_tiktoken_encoder(\n",
    "    separator = \"\\n\",\n",
    "    chunk_size= 1000,\n",
    "    chunk_overlap=100,\n",
    ")\n",
    "\n",
    "doc_splits = text_splitter.split_documents(docs_list_converted)\n",
    "print(len(doc_splits))"
   ]
  },
  {
   "cell_type": "markdown",
   "metadata": {},
   "source": [
    "# Embedding model"
   ]
  },
  {
   "cell_type": "code",
   "execution_count": 41,
   "metadata": {},
   "outputs": [],
   "source": [
    "from langchain_openai import OpenAIEmbeddings\n",
    "\n",
    "embeddings = OpenAIEmbeddings(model=\"text-embedding-3-small\")"
   ]
  },
  {
   "cell_type": "markdown",
   "metadata": {},
   "source": [
    "# Vector store"
   ]
  },
  {
   "cell_type": "code",
   "execution_count": 45,
   "metadata": {},
   "outputs": [],
   "source": [
    "from langchain_chroma import Chroma\n",
    "\n",
    "db = Chroma.from_documents(doc_splits, embeddings)"
   ]
  },
  {
   "cell_type": "markdown",
   "metadata": {},
   "source": [
    "# Retriever"
   ]
  },
  {
   "cell_type": "code",
   "execution_count": 46,
   "metadata": {},
   "outputs": [],
   "source": [
    "retriever = db.as_retriever()"
   ]
  },
  {
   "cell_type": "code",
   "execution_count": 47,
   "metadata": {},
   "outputs": [
    {
     "name": "stdout",
     "output_type": "stream",
     "text": [
      "len = 4\n",
      "metadata = {'source': '../dataset/Hada_Labo_Gokujun_Lotion_Overview.pdf'}\n",
      "2024/12/06 8:55 肌ラボ 極潤ヒアルロン液 | ロート製薬: 商品情報サイト\n",
      "アイケア スキンケア 外⽪薬 内服薬 検査薬 ⿐・⼝腔ケア ⾷品・サプリメント お役⽴ち情報\n",
      "肌ラボ\n",
      "化粧品\n",
      "肌ラボ 極潤ヒアルロン液\n",
      "発酵技術で⽣まれたうるおい成分 乳酸球菌／ヒア\n",
      "ルロン酸発酵液 配合。やさしいとろみでうるおっ\n",
      "て吸いつくようなもちもち肌に\n",
      "内容量 価格\n",
      "ボトル 170mL オープン価格\n",
      "つめかえ⽤ 170mL オープン価格\n",
      "ポンプ 400mL オープン価格\n",
      "※希望⼩売価格・税込\n",
      "肌ラボ 極潤ヒアルロン液の成分表⽰はこちらをご覧ください。\n",
      "成分表⽰ 販売店検索はこちら\n",
      "JANコード\n",
      "肌ラボ 極潤ヒアルロン液について\n",
      "肌が本当に求めるうるおいを追求した、「極潤」。うるおい成分であるヒアルロン酸にこだわり抜き、必要のない\n",
      "ものはできる限り削ぎ落として、配合成分と容器をシンプルにしました。\n",
      "「極潤ヒアルロン液」は、肌が求めるうるおいを詰めこんだ化粧⽔。4種類のヒアルロン酸（うるおい成分）＊\n",
      "を配合しました。やさしいとろみで、たっぷりうるおい、使うたび、健やかな素肌へ。顔・体・髪の⽑にも。⽼\n",
      "若男⼥、誰でも使えます。\n",
      "弱酸性。無⾹料・無着⾊・オイルフリー・アルコール（エタノール）フリー・パラベンフリー。敏感肌の⽅の協\n",
      "⼒によるパッチテスト済み。（すべての⽅に刺激が起こらないというわけではありません。）\n",
      "本製品の容器には、環境に配慮したバイオマス原料を⼀部使⽤しています。\n"
     ]
    }
   ],
   "source": [
    "query = \"肌ラボ 極潤ヒアルロン液の使用上の注意点を教えてください。\"\n",
    "\n",
    "context_docs = retriever.invoke(query)\n",
    "print(f\"len = {len(context_docs)}\")\n",
    "\n",
    "first_doc = context_docs[0]\n",
    "print(f\"metadata = {first_doc.metadata}\")\n",
    "print(first_doc.page_content)"
   ]
  },
  {
   "cell_type": "markdown",
   "metadata": {},
   "source": [
    "# LCELを使ったRAGのChainの実装"
   ]
  },
  {
   "cell_type": "code",
   "execution_count": 50,
   "metadata": {},
   "outputs": [],
   "source": [
    "from langchain_core.prompts import ChatPromptTemplate\n",
    "from langchain_openai import ChatOpenAI\n",
    "\n",
    "prompt = ChatPromptTemplate.from_template('''\\\n",
    "以下の文脈だけを踏まえて質問に回答してください。\n",
    "\n",
    "文脈: \"\"\"\n",
    "{context}\n",
    "\"\"\"\n",
    "\n",
    "質問: {question}\n",
    "''')\n",
    "\n",
    "model = ChatOpenAI(model_name=\"gpt-4o-mini\", temperature=0)"
   ]
  },
  {
   "cell_type": "code",
   "execution_count": 51,
   "metadata": {},
   "outputs": [
    {
     "name": "stdout",
     "output_type": "stream",
     "text": [
      "肌ラボ 極潤ヒアルロン液の使用上の注意点は以下の通りです：\n",
      "\n",
      "1. **異常に注意**: 使用中または使用後に、赤み、はれ、かゆみ、刺激、色抜け（白斑等）や黒ずみ等の異常が現れた場合は、使用を中止し、皮膚科専門医等に相談すること。\n",
      "\n",
      "2. **異常のある部位には使用しない**: 傷、はれもの、湿疹等、異常のある部位には使用しないこと。\n",
      "\n",
      "3. **目に入らないように注意**: 目に入った場合は、すぐに水またはぬるま湯で洗い流し、異常が残る場合は眼科医に相談すること。\n"
     ]
    }
   ],
   "source": [
    "from langchain_core.output_parsers import StrOutputParser\n",
    "from langchain_core.runnables import RunnablePassthrough\n",
    "\n",
    "chain = (\n",
    "    {\"context\": retriever, \"question\": RunnablePassthrough()}\n",
    "    | prompt\n",
    "    | model\n",
    "    | StrOutputParser()\n",
    ")\n",
    "\n",
    "query = \"肌ラボ 極潤ヒアルロン液の使用上の注意点を教えてください。\"\n",
    "\n",
    "output = chain.invoke(query)\n",
    "print(output)"
   ]
  }
 ],
 "metadata": {
  "kernelspec": {
   "display_name": "Python 3",
   "language": "python",
   "name": "python3"
  },
  "language_info": {
   "codemirror_mode": {
    "name": "ipython",
    "version": 3
   },
   "file_extension": ".py",
   "mimetype": "text/x-python",
   "name": "python",
   "nbconvert_exporter": "python",
   "pygments_lexer": "ipython3",
   "version": "3.9.21"
  }
 },
 "nbformat": 4,
 "nbformat_minor": 2
}
